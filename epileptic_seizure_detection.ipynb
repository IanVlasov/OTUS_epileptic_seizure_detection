{
 "cells": [
  {
   "cell_type": "code",
   "execution_count": 1,
   "metadata": {},
   "outputs": [],
   "source": [
    "import sys\n",
    "sys.path.append(\n",
    "    \"/home/yan/Documents/OTUS/HW_03/epileptic-seizure-detection/epileptic_seizure_detection/\"\n",
    ")\n",
    "\n",
    "import warnings\n",
    "warnings.filterwarnings(\"ignore\")\n",
    "\n",
    "import pandas as pd\n",
    "import numpy as np\n",
    "import time\n",
    "from tqdm.autonotebook import tqdm\n",
    "\n",
    "import seaborn as sns\n",
    "import matplotlib.pyplot as plt\n",
    "\n",
    "# from src.detect_peaks import detect_peaks\n",
    "# from src.utils import *\n",
    "\n",
    "from tslearn.clustering import TimeSeriesKMeans\n",
    "from sklearn.cluster import KMeans\n",
    "from sklearn.preprocessing import MinMaxScaler\n",
    "from sklearn.model_selection import StratifiedShuffleSplit\n",
    "\n",
    "from src.signal_processing import *\n",
    "\n",
    "%load_ext autoreload\n",
    "%autoreload 2"
   ]
  },
  {
   "cell_type": "code",
   "execution_count": 2,
   "metadata": {
    "pycharm": {
     "name": "#%%\n"
    }
   },
   "outputs": [],
   "source": [
    "INPUT_DATA_PATH = \"./data/Epileptic Seizure Recognition.csv\"\n",
    "\n",
    "input_data = pd.read_csv(INPUT_DATA_PATH)"
   ]
  },
  {
   "cell_type": "markdown",
   "metadata": {},
   "source": [
    "# 1. EDA"
   ]
  },
  {
   "cell_type": "code",
   "execution_count": 3,
   "metadata": {
    "pycharm": {
     "name": "#%%\n"
    }
   },
   "outputs": [
    {
     "name": "stdout",
     "output_type": "stream",
     "text": [
      "Shape: (11500, 180)\n",
      "Dtypes: int64     179\n",
      "object      1\n",
      "dtype: int64\n",
      "Missing_values: 0\n"
     ]
    }
   ],
   "source": [
    "print(f\"Shape: {input_data.shape}\")\n",
    "print(f\"Dtypes: {input_data.dtypes.value_counts()}\")\n",
    "print(f\"Missing_values: {input_data.isna().sum().sum()}\")"
   ]
  },
  {
   "cell_type": "code",
   "execution_count": 4,
   "metadata": {
    "pycharm": {
     "name": "#%%\n"
    }
   },
   "outputs": [],
   "source": [
    "FEATURE_COLUMNS = input_data.columns.tolist()\n",
    "TARGET_COLUMN = \"y\"\n",
    "FEATURE_COLUMNS.remove(TARGET_COLUMN)\n",
    "FEATURE_COLUMNS.remove(\"Unnamed\")"
   ]
  },
  {
   "cell_type": "code",
   "execution_count": 5,
   "metadata": {
    "pycharm": {
     "name": "#%%\n"
    }
   },
   "outputs": [],
   "source": [
    "input_data[TARGET_COLUMN] = np.where(input_data[TARGET_COLUMN] > 1, 0, 1)"
   ]
  },
  {
   "cell_type": "code",
   "execution_count": 6,
   "metadata": {
    "pycharm": {
     "name": "#%%\n"
    }
   },
   "outputs": [
    {
     "data": {
      "text/plain": [
       "0    9200\n",
       "1    2300\n",
       "Name: y, dtype: int64"
      ]
     },
     "execution_count": 6,
     "metadata": {},
     "output_type": "execute_result"
    }
   ],
   "source": [
    "input_data[TARGET_COLUMN].value_counts()"
   ]
  },
  {
   "cell_type": "markdown",
   "metadata": {},
   "source": [
    "Data is imbalanced so it is better to use stratification for splits"
   ]
  },
  {
   "cell_type": "code",
   "execution_count": 7,
   "metadata": {
    "pycharm": {
     "name": "#%%\n"
    }
   },
   "outputs": [],
   "source": [
    "X = input_data[FEATURE_COLUMNS]\n",
    "y = input_data[TARGET_COLUMN]\n",
    "\n",
    "strat_shuff_split = StratifiedShuffleSplit(n_splits=1, test_size=0.2, random_state=1337)\n",
    "train_idx, test_idx = next(strat_shuff_split.split(X, y))\n",
    "\n",
    "X_train = input_data.loc[train_idx, X.columns.values]\n",
    "y_train = input_data.loc[train_idx, 'y']\n",
    "\n",
    "X_test = input_data.loc[test_idx, X.columns.values]\n",
    "y_test = input_data.loc[test_idx, 'y']"
   ]
  },
  {
   "cell_type": "code",
   "execution_count": 8,
   "metadata": {
    "pycharm": {
     "name": "#%%\n"
    }
   },
   "outputs": [
    {
     "name": "stdout",
     "output_type": "stream",
     "text": [
      "0    0.8\n",
      "1    0.2\n",
      "Name: y, dtype: float64\n",
      "0    0.8\n",
      "1    0.2\n",
      "Name: y, dtype: float64\n"
     ]
    }
   ],
   "source": [
    "# Stratification check\n",
    "print(y_train.value_counts(normalize=True).sort_index())\n",
    "print(y_test.value_counts(normalize=True).sort_index())"
   ]
  },
  {
   "cell_type": "markdown",
   "metadata": {},
   "source": [
    "# 2. ML"
   ]
  },
  {
   "cell_type": "code",
   "execution_count": 9,
   "metadata": {
    "pycharm": {
     "name": "#%%\n"
    }
   },
   "outputs": [
    {
     "data": {
      "text/plain": [
       "<AxesSubplot:>"
      ]
     },
     "execution_count": 9,
     "metadata": {},
     "output_type": "execute_result"
    },
    {
     "data": {
      "image/png": "[encoded data removed]",
      "text/plain": [
       "<Figure size 432x288 with 1 Axes>"
      ]
     },
     "metadata": {
      "needs_background": "light"
     },
     "output_type": "display_data"
    }
   ],
   "source": [
    "pd.DataFrame(X_train).groupby(pd.Series(y_train)).mean().T.plot()"
   ]
  },
  {
   "cell_type": "markdown",
   "metadata": {},
   "source": [
    "### 2.1 Baseline"
   ]
  },
  {
   "cell_type": "code",
   "execution_count": 10,
   "metadata": {
    "pycharm": {
     "name": "#%%\n"
    }
   },
   "outputs": [],
   "source": [
    "from catboost import CatBoostClassifier\n",
    "\n",
    "from sklearn.metrics import f1_score\n",
    "from sklearn.linear_model import LogisticRegression\n",
    "from sklearn.svm import SVC\n",
    "from sklearn.ensemble import RandomForestClassifier\n",
    "from sklearn.metrics import classification_report"
   ]
  },
  {
   "cell_type": "code",
   "execution_count": 11,
   "metadata": {
    "pycharm": {
     "name": "#%%\n"
    }
   },
   "outputs": [],
   "source": [
    "classifiers = [\n",
    "    LogisticRegression(verbose=False),\n",
    "    SVC(verbose=False),\n",
    "    RandomForestClassifier(verbose=False),\n",
    "    CatBoostClassifier(verbose=False)\n",
    "]"
   ]
  },
  {
   "cell_type": "code",
   "execution_count": 12,
   "metadata": {
    "pycharm": {
     "name": "#%%\n"
    }
   },
   "outputs": [],
   "source": [
    "def create_report(clf_list, X_train, y_train, X_test, y_test):\n",
    "    for clf in clf_list:\n",
    "        clf_name = clf.__class__.__name__\n",
    "        clf.fit(X_train, y_train)\n",
    "\n",
    "        y_pred = clf.predict(X_test)\n",
    "\n",
    "        train_f1_score = f1_score(y_train, clf.predict(X_train))\n",
    "        test_f1_score = f1_score(y_test, y_pred)\n",
    "\n",
    "        print(\"=\" * 50)\n",
    "        print(clf_name)\n",
    "        print(f\"Train score: {train_f1_score}\")\n",
    "        print(f\"Test score: {test_f1_score}\")\n",
    "        print(classification_report(y_test, y_pred))"
   ]
  },
  {
   "cell_type": "code",
   "execution_count": 13,
   "metadata": {
    "pycharm": {
     "name": "#%%\n"
    }
   },
   "outputs": [
    {
     "name": "stdout",
     "output_type": "stream",
     "text": [
      "==================================================\n",
      "LogisticRegression\n",
      "Train score: 0.3692870201096892\n",
      "Test score: 0.3155299917830731\n",
      "              precision    recall  f1-score   support\n",
      "\n",
      "           0       0.83      0.69      0.75      1840\n",
      "           1       0.25      0.42      0.32       460\n",
      "\n",
      "    accuracy                           0.64      2300\n",
      "   macro avg       0.54      0.56      0.53      2300\n",
      "weighted avg       0.71      0.64      0.67      2300\n",
      "\n",
      "==================================================\n",
      "SVC\n",
      "Train score: 0.9547738693467338\n",
      "Test score: 0.9348066298342542\n",
      "              precision    recall  f1-score   support\n",
      "\n",
      "           0       0.98      0.99      0.98      1840\n",
      "           1       0.95      0.92      0.93       460\n",
      "\n",
      "    accuracy                           0.97      2300\n",
      "   macro avg       0.97      0.95      0.96      2300\n",
      "weighted avg       0.97      0.97      0.97      2300\n",
      "\n",
      "==================================================\n",
      "RandomForestClassifier\n",
      "Train score: 1.0\n",
      "Test score: 0.947141316073355\n",
      "              precision    recall  f1-score   support\n",
      "\n",
      "           0       0.99      0.98      0.99      1840\n",
      "           1       0.94      0.95      0.95       460\n",
      "\n",
      "    accuracy                           0.98      2300\n",
      "   macro avg       0.96      0.97      0.97      2300\n",
      "weighted avg       0.98      0.98      0.98      2300\n",
      "\n",
      "==================================================\n",
      "CatBoostClassifier\n",
      "Train score: 0.999728187007339\n",
      "Test score: 0.9440175631174534\n",
      "              precision    recall  f1-score   support\n",
      "\n",
      "           0       0.98      0.99      0.99      1840\n",
      "           1       0.95      0.93      0.94       460\n",
      "\n",
      "    accuracy                           0.98      2300\n",
      "   macro avg       0.97      0.96      0.97      2300\n",
      "weighted avg       0.98      0.98      0.98      2300\n",
      "\n"
     ]
    }
   ],
   "source": [
    "create_report(classifiers, X_train, y_train, X_test, y_test)"
   ]
  },
  {
   "cell_type": "markdown",
   "metadata": {},
   "source": [
    "### 2.2 FFT"
   ]
  },
  {
   "cell_type": "markdown",
   "metadata": {},
   "source": []
  },
  {
   "cell_type": "code",
   "execution_count": 14,
   "metadata": {
    "pycharm": {
     "name": "#%%\n"
    }
   },
   "outputs": [],
   "source": [
    "N = 178     # длина сигнала\n",
    "f_s = 178  # частота Hz\n",
    "t_n = 1  # длина нашего сигнала в секундах\n",
    "T = t_n / N # период сигнала\n",
    "sample_rate = 1 / f_s\n",
    "denominator = 10"
   ]
  },
  {
   "cell_type": "code",
   "execution_count": 15,
   "metadata": {
    "pycharm": {
     "name": "#%%\n"
    }
   },
   "outputs": [
    {
     "data": {
      "application/vnd.jupyter.widget-view+json": {
       "model_id": "",
       "version_major": 2,
       "version_minor": 0
      },
      "text/plain": [
       "  0%|          | 0/9200 [00:00<?, ?it/s]"
      ]
     },
     "metadata": {},
     "output_type": "display_data"
    },
    {
     "data": {
      "application/vnd.jupyter.widget-view+json": {
       "model_id": "",
       "version_major": 2,
       "version_minor": 0
      },
      "text/plain": [
       "  0%|          | 0/2300 [00:00<?, ?it/s]"
      ]
     },
     "metadata": {},
     "output_type": "display_data"
    }
   ],
   "source": [
    "X_train_fft, _ = extract_features_labels(X_train, y_train.values, T, N, f_s, denominator)\n",
    "X_test_fft, _ = extract_features_labels(X_test, y_test.values, T, N, f_s, denominator)"
   ]
  },
  {
   "cell_type": "code",
   "execution_count": 16,
   "metadata": {
    "pycharm": {
     "name": "#%%\n"
    }
   },
   "outputs": [
    {
     "data": {
      "text/plain": [
       "<AxesSubplot:>"
      ]
     },
     "execution_count": 16,
     "metadata": {},
     "output_type": "execute_result"
    },
    {
     "data": {
      "image/png": "[encoded data removed]",
      "text/plain": [
       "<Figure size 432x288 with 1 Axes>"
      ]
     },
     "metadata": {
      "needs_background": "light"
     },
     "output_type": "display_data"
    }
   ],
   "source": [
    "pd.DataFrame(X_train_fft).groupby(pd.Series(y_train)).mean().T.plot()"
   ]
  },
  {
   "cell_type": "code",
   "execution_count": 17,
   "metadata": {
    "pycharm": {
     "name": "#%%\n"
    }
   },
   "outputs": [
    {
     "name": "stdout",
     "output_type": "stream",
     "text": [
      "New features count: 30\n",
      "Features dimension reduction: 148\n"
     ]
    }
   ],
   "source": [
    "print(f\"New features count: {X_train_fft.shape[1]}\")\n",
    "print(f\"Features dimension reduction: {X_train.shape[1] - X_train_fft.shape[1]}\")"
   ]
  },
  {
   "cell_type": "code",
   "execution_count": 18,
   "metadata": {
    "pycharm": {
     "name": "#%%\n"
    }
   },
   "outputs": [],
   "source": [
    "clf = CatBoostClassifier(verbose=False)"
   ]
  },
  {
   "cell_type": "code",
   "execution_count": 19,
   "metadata": {
    "pycharm": {
     "name": "#%%\n"
    }
   },
   "outputs": [
    {
     "name": "stdout",
     "output_type": "stream",
     "text": [
      "==================================================\n",
      "CatBoostClassifier\n",
      "Train score: 0.9991845610220169\n",
      "Test score: 0.9620801733477788\n",
      "              precision    recall  f1-score   support\n",
      "\n",
      "           0       0.99      0.99      0.99      1840\n",
      "           1       0.96      0.97      0.96       460\n",
      "\n",
      "    accuracy                           0.98      2300\n",
      "   macro avg       0.98      0.98      0.98      2300\n",
      "weighted avg       0.98      0.98      0.98      2300\n",
      "\n"
     ]
    }
   ],
   "source": [
    "create_report([clf], X_train_fft, y_train, X_test_fft, y_test)"
   ]
  },
  {
   "cell_type": "code",
   "execution_count": 20,
   "metadata": {
    "pycharm": {
     "name": "#%%\n"
    }
   },
   "outputs": [],
   "source": [
    "top_features = np.argwhere(clf.feature_importances_ > 2).flatten()"
   ]
  },
  {
   "cell_type": "code",
   "execution_count": 21,
   "metadata": {
    "pycharm": {
     "name": "#%%\n"
    }
   },
   "outputs": [
    {
     "data": {
      "text/plain": [
       "(20,)"
      ]
     },
     "execution_count": 21,
     "metadata": {},
     "output_type": "execute_result"
    }
   ],
   "source": [
    "clf.feature_importances_[top_features].shape"
   ]
  },
  {
   "cell_type": "code",
   "execution_count": 22,
   "metadata": {
    "pycharm": {
     "name": "#%%\n"
    }
   },
   "outputs": [],
   "source": [
    "clf_top_features_only = CatBoostClassifier(verbose=False)"
   ]
  },
  {
   "cell_type": "code",
   "execution_count": 23,
   "metadata": {
    "pycharm": {
     "name": "#%%\n"
    }
   },
   "outputs": [
    {
     "name": "stdout",
     "output_type": "stream",
     "text": [
      "==================================================\n",
      "CatBoostClassifier\n",
      "Train score: 0.9991845610220169\n",
      "Test score: 0.9621621621621621\n",
      "              precision    recall  f1-score   support\n",
      "\n",
      "           0       0.99      0.99      0.99      1840\n",
      "           1       0.96      0.97      0.96       460\n",
      "\n",
      "    accuracy                           0.98      2300\n",
      "   macro avg       0.97      0.98      0.98      2300\n",
      "weighted avg       0.98      0.98      0.98      2300\n",
      "\n"
     ]
    }
   ],
   "source": [
    "create_report([clf_top_features_only], X_train_fft[:, top_features], y_train, X_test_fft[:, top_features], y_test)"
   ]
  },
  {
   "cell_type": "markdown",
   "metadata": {
    "pycharm": {
     "name": "#%% md\n"
    }
   },
   "source": [
    "### 2.3 Wavelet"
   ]
  },
  {
   "cell_type": "code",
   "execution_count": 24,
   "metadata": {
    "pycharm": {
     "name": "#%%\n"
    }
   },
   "outputs": [
    {
     "data": {
      "application/vnd.jupyter.widget-view+json": {
       "model_id": "",
       "version_major": 2,
       "version_minor": 0
      },
      "text/plain": [
       "  0%|          | 0/9200 [00:00<?, ?it/s]"
      ]
     },
     "metadata": {},
     "output_type": "display_data"
    },
    {
     "data": {
      "application/vnd.jupyter.widget-view+json": {
       "model_id": "",
       "version_major": 2,
       "version_minor": 0
      },
      "text/plain": [
       "  0%|          | 0/2300 [00:00<?, ?it/s]"
      ]
     },
     "metadata": {},
     "output_type": "display_data"
    }
   ],
   "source": [
    "# According to this paper (pdf inside)\n",
    "# https://www.mdpi.com/1424-8220/15/11/29015/pdf\n",
    "\n",
    "waveletname = 'sym9'\n",
    "X_train_wt, _ = get_uci_har_features(X_train, y_train, waveletname)\n",
    "X_test_wt, _ = get_uci_har_features(X_test, y_test, waveletname)"
   ]
  },
  {
   "cell_type": "code",
   "execution_count": 25,
   "metadata": {
    "pycharm": {
     "name": "#%%\n"
    }
   },
   "outputs": [
    {
     "data": {
      "text/plain": [
       "<AxesSubplot:>"
      ]
     },
     "execution_count": 25,
     "metadata": {},
     "output_type": "execute_result"
    },
    {
     "data": {
      "image/png": "[encoded data removed]",
      "text/plain": [
       "<Figure size 432x288 with 1 Axes>"
      ]
     },
     "metadata": {
      "needs_background": "light"
     },
     "output_type": "display_data"
    }
   ],
   "source": [
    "pd.DataFrame(X_train_wt).groupby(pd.Series(y_train)).mean().T.plot()"
   ]
  },
  {
   "cell_type": "code",
   "execution_count": 26,
   "metadata": {
    "pycharm": {
     "name": "#%%\n"
    }
   },
   "outputs": [
    {
     "name": "stdout",
     "output_type": "stream",
     "text": [
      "New features count: 48\n",
      "Features dimension reduction: 130\n"
     ]
    }
   ],
   "source": [
    "print(f\"New features count: {X_train_wt.shape[1]}\")\n",
    "print(f\"Features dimension reduction: {X_train.shape[1] - X_train_wt.shape[1]}\")"
   ]
  },
  {
   "cell_type": "code",
   "execution_count": 27,
   "metadata": {
    "pycharm": {
     "name": "#%%\n"
    }
   },
   "outputs": [],
   "source": [
    "clf = CatBoostClassifier(verbose=False)"
   ]
  },
  {
   "cell_type": "code",
   "execution_count": 28,
   "metadata": {
    "pycharm": {
     "name": "#%%\n"
    }
   },
   "outputs": [
    {
     "name": "stdout",
     "output_type": "stream",
     "text": [
      "==================================================\n",
      "CatBoostClassifier\n",
      "Train score: 1.0\n",
      "Test score: 0.9696969696969697\n",
      "              precision    recall  f1-score   support\n",
      "\n",
      "           0       0.99      0.99      0.99      1840\n",
      "           1       0.97      0.97      0.97       460\n",
      "\n",
      "    accuracy                           0.99      2300\n",
      "   macro avg       0.98      0.98      0.98      2300\n",
      "weighted avg       0.99      0.99      0.99      2300\n",
      "\n"
     ]
    }
   ],
   "source": [
    "create_report([clf], X_train_wt, y_train, X_test_wt, y_test)"
   ]
  },
  {
   "cell_type": "code",
   "execution_count": 29,
   "metadata": {
    "pycharm": {
     "name": "#%%\n"
    }
   },
   "outputs": [],
   "source": [
    "top_features = np.argwhere(clf.feature_importances_ > 1.95).flatten()"
   ]
  },
  {
   "cell_type": "code",
   "execution_count": 30,
   "metadata": {
    "pycharm": {
     "name": "#%%\n"
    }
   },
   "outputs": [
    {
     "data": {
      "text/plain": [
       "(18,)"
      ]
     },
     "execution_count": 30,
     "metadata": {},
     "output_type": "execute_result"
    }
   ],
   "source": [
    "clf.feature_importances_[top_features].shape"
   ]
  },
  {
   "cell_type": "code",
   "execution_count": 31,
   "metadata": {
    "pycharm": {
     "name": "#%%\n"
    }
   },
   "outputs": [],
   "source": [
    "clf_top_features_only = CatBoostClassifier(verbose=False)"
   ]
  },
  {
   "cell_type": "code",
   "execution_count": 32,
   "metadata": {
    "pycharm": {
     "name": "#%%\n"
    }
   },
   "outputs": [
    {
     "name": "stdout",
     "output_type": "stream",
     "text": [
      "==================================================\n",
      "CatBoostClassifier\n",
      "Train score: 0.999728187007339\n",
      "Test score: 0.9761904761904762\n",
      "              precision    recall  f1-score   support\n",
      "\n",
      "           0       1.00      0.99      0.99      1840\n",
      "           1       0.97      0.98      0.98       460\n",
      "\n",
      "    accuracy                           0.99      2300\n",
      "   macro avg       0.98      0.99      0.99      2300\n",
      "weighted avg       0.99      0.99      0.99      2300\n",
      "\n"
     ]
    }
   ],
   "source": [
    "create_report([clf_top_features_only], X_train_wt[:, top_features], y_train, X_test_wt[:, top_features], y_test)"
   ]
  },
  {
   "cell_type": "markdown",
   "metadata": {},
   "source": [
    "### 2.4 Fourier + Wavelet"
   ]
  },
  {
   "cell_type": "code",
   "execution_count": 33,
   "metadata": {
    "pycharm": {
     "name": "#%%\n"
    }
   },
   "outputs": [],
   "source": [
    "clf_top_features_only = CatBoostClassifier(verbose=False)"
   ]
  },
  {
   "cell_type": "code",
   "execution_count": 34,
   "metadata": {
    "pycharm": {
     "name": "#%%\n"
    }
   },
   "outputs": [
    {
     "name": "stdout",
     "output_type": "stream",
     "text": [
      "==================================================\n",
      "CatBoostClassifier\n",
      "Train score: 1.0\n",
      "Test score: 0.9761388286334056\n",
      "              precision    recall  f1-score   support\n",
      "\n",
      "           0       0.99      0.99      0.99      1840\n",
      "           1       0.97      0.98      0.98       460\n",
      "\n",
      "    accuracy                           0.99      2300\n",
      "   macro avg       0.98      0.99      0.99      2300\n",
      "weighted avg       0.99      0.99      0.99      2300\n",
      "\n"
     ]
    }
   ],
   "source": [
    "create_report([clf], np.concatenate([X_train_fft, X_train_wt], axis=1), y_train, np.concatenate([X_test_fft, X_test_wt], axis=1), y_test)"
   ]
  },
  {
   "cell_type": "code",
   "execution_count": 35,
   "metadata": {
    "pycharm": {
     "name": "#%%\n"
    }
   },
   "outputs": [],
   "source": [
    "top_features = np.argwhere(clf.feature_importances_ > 2).flatten()"
   ]
  },
  {
   "cell_type": "code",
   "execution_count": 36,
   "metadata": {
    "pycharm": {
     "name": "#%%\n"
    }
   },
   "outputs": [
    {
     "data": {
      "text/plain": [
       "(14,)"
      ]
     },
     "execution_count": 36,
     "metadata": {},
     "output_type": "execute_result"
    }
   ],
   "source": [
    "clf.feature_importances_[top_features].shape"
   ]
  },
  {
   "cell_type": "code",
   "execution_count": 37,
   "metadata": {
    "pycharm": {
     "name": "#%%\n"
    }
   },
   "outputs": [],
   "source": [
    "clf_top_features_only = CatBoostClassifier(verbose=False)"
   ]
  },
  {
   "cell_type": "code",
   "execution_count": 38,
   "metadata": {
    "pycharm": {
     "name": "#%%\n"
    }
   },
   "outputs": [
    {
     "name": "stdout",
     "output_type": "stream",
     "text": [
      "==================================================\n",
      "CatBoostClassifier\n",
      "Train score: 1.0\n",
      "Test score: 0.9761388286334056\n",
      "              precision    recall  f1-score   support\n",
      "\n",
      "           0       0.99      0.99      0.99      1840\n",
      "           1       0.97      0.98      0.98       460\n",
      "\n",
      "    accuracy                           0.99      2300\n",
      "   macro avg       0.98      0.99      0.99      2300\n",
      "weighted avg       0.99      0.99      0.99      2300\n",
      "\n"
     ]
    }
   ],
   "source": [
    "create_report([clf_top_features_only], np.concatenate([X_train_fft, X_train_wt], axis=1), y_train, np.concatenate([X_test_fft, X_test_wt], axis=1), y_test)"
   ]
  },
  {
   "cell_type": "markdown",
   "metadata": {},
   "source": [
    "### 2.5 Automatic static features"
   ]
  },
  {
   "cell_type": "code",
   "execution_count": 39,
   "metadata": {
    "pycharm": {
     "name": "#%%\n"
    }
   },
   "outputs": [],
   "source": [
    "from tsfresh import extract_features, extract_relevant_features, select_features\n",
    "from tsfresh.utilities.dataframe_functions import impute"
   ]
  },
  {
   "cell_type": "code",
   "execution_count": 41,
   "metadata": {
    "pycharm": {
     "name": "#%%\n"
    }
   },
   "outputs": [
    {
     "name": "stderr",
     "output_type": "stream",
     "text": [
      "Feature Extraction:   0%|          | 0/30 [06:48<?, ?it/s]\n"
     ]
    },
    {
     "ename": "KeyboardInterrupt",
     "evalue": "",
     "output_type": "error",
     "traceback": [
      "\u001B[0;31m---------------------------------------------------------------------------\u001B[0m",
      "\u001B[0;31mIndexError\u001B[0m                                Traceback (most recent call last)",
      "\u001B[0;32m~/miniconda3/envs/epileptic_seizure_detection/lib/python3.8/multiprocessing/pool.py\u001B[0m in \u001B[0;36mnext\u001B[0;34m(self, timeout)\u001B[0m\n\u001B[1;32m    850\u001B[0m             \u001B[0;32mtry\u001B[0m\u001B[0;34m:\u001B[0m\u001B[0;34m\u001B[0m\u001B[0;34m\u001B[0m\u001B[0m\n\u001B[0;32m--> 851\u001B[0;31m                 \u001B[0mitem\u001B[0m \u001B[0;34m=\u001B[0m \u001B[0mself\u001B[0m\u001B[0;34m.\u001B[0m\u001B[0m_items\u001B[0m\u001B[0;34m.\u001B[0m\u001B[0mpopleft\u001B[0m\u001B[0;34m(\u001B[0m\u001B[0;34m)\u001B[0m\u001B[0;34m\u001B[0m\u001B[0;34m\u001B[0m\u001B[0m\n\u001B[0m\u001B[1;32m    852\u001B[0m             \u001B[0;32mexcept\u001B[0m \u001B[0mIndexError\u001B[0m\u001B[0;34m:\u001B[0m\u001B[0;34m\u001B[0m\u001B[0;34m\u001B[0m\u001B[0m\n",
      "\u001B[0;31mIndexError\u001B[0m: pop from an empty deque",
      "\nDuring handling of the above exception, another exception occurred:\n",
      "\u001B[0;31mKeyboardInterrupt\u001B[0m                         Traceback (most recent call last)",
      "\u001B[0;32m<ipython-input-41-b64b8a6b2b7f>\u001B[0m in \u001B[0;36m<module>\u001B[0;34m\u001B[0m\n\u001B[0;32m----> 1\u001B[0;31m \u001B[0minput_data_extracted_features\u001B[0m \u001B[0;34m=\u001B[0m \u001B[0mextract_features\u001B[0m\u001B[0;34m(\u001B[0m\u001B[0minput_data\u001B[0m\u001B[0;34m,\u001B[0m \u001B[0mcolumn_id\u001B[0m\u001B[0;34m=\u001B[0m\u001B[0;34m\"Unnamed\"\u001B[0m\u001B[0;34m)\u001B[0m\u001B[0;34m\u001B[0m\u001B[0;34m\u001B[0m\u001B[0m\n\u001B[0m",
      "\u001B[0;32m~/miniconda3/envs/epileptic_seizure_detection/lib/python3.8/site-packages/tsfresh/feature_extraction/extraction.py\u001B[0m in \u001B[0;36mextract_features\u001B[0;34m(timeseries_container, default_fc_parameters, kind_to_fc_parameters, column_id, column_sort, column_kind, column_value, chunksize, n_jobs, show_warnings, disable_progressbar, impute_function, profile, profiling_filename, profiling_sorting, distributor, pivot)\u001B[0m\n\u001B[1;32m    150\u001B[0m             \u001B[0mwarnings\u001B[0m\u001B[0;34m.\u001B[0m\u001B[0msimplefilter\u001B[0m\u001B[0;34m(\u001B[0m\u001B[0;34m\"default\"\u001B[0m\u001B[0;34m)\u001B[0m\u001B[0;34m\u001B[0m\u001B[0;34m\u001B[0m\u001B[0m\n\u001B[1;32m    151\u001B[0m \u001B[0;34m\u001B[0m\u001B[0m\n\u001B[0;32m--> 152\u001B[0;31m         result = _do_extraction(df=timeseries_container,\n\u001B[0m\u001B[1;32m    153\u001B[0m                                 \u001B[0mcolumn_id\u001B[0m\u001B[0;34m=\u001B[0m\u001B[0mcolumn_id\u001B[0m\u001B[0;34m,\u001B[0m \u001B[0mcolumn_value\u001B[0m\u001B[0;34m=\u001B[0m\u001B[0mcolumn_value\u001B[0m\u001B[0;34m,\u001B[0m\u001B[0;34m\u001B[0m\u001B[0;34m\u001B[0m\u001B[0m\n\u001B[1;32m    154\u001B[0m                                 \u001B[0mcolumn_kind\u001B[0m\u001B[0;34m=\u001B[0m\u001B[0mcolumn_kind\u001B[0m\u001B[0;34m,\u001B[0m\u001B[0;34m\u001B[0m\u001B[0;34m\u001B[0m\u001B[0m\n",
      "\u001B[0;32m~/miniconda3/envs/epileptic_seizure_detection/lib/python3.8/site-packages/tsfresh/feature_extraction/extraction.py\u001B[0m in \u001B[0;36m_do_extraction\u001B[0;34m(df, column_id, column_value, column_kind, column_sort, default_fc_parameters, kind_to_fc_parameters, n_jobs, chunk_size, disable_progressbar, show_warnings, distributor, pivot)\u001B[0m\n\u001B[1;32m    253\u001B[0m                   show_warnings=show_warnings)\n\u001B[1;32m    254\u001B[0m \u001B[0;34m\u001B[0m\u001B[0m\n\u001B[0;32m--> 255\u001B[0;31m     result = distributor.map_reduce(_do_extraction_on_chunk, data=data,\n\u001B[0m\u001B[1;32m    256\u001B[0m                                     \u001B[0mchunk_size\u001B[0m\u001B[0;34m=\u001B[0m\u001B[0mchunk_size\u001B[0m\u001B[0;34m,\u001B[0m\u001B[0;34m\u001B[0m\u001B[0;34m\u001B[0m\u001B[0m\n\u001B[1;32m    257\u001B[0m                                     function_kwargs=kwargs)\n",
      "\u001B[0;32m~/miniconda3/envs/epileptic_seizure_detection/lib/python3.8/site-packages/tsfresh/utilities/distribution.py\u001B[0m in \u001B[0;36mmap_reduce\u001B[0;34m(self, map_function, data, function_kwargs, chunk_size, data_length)\u001B[0m\n\u001B[1;32m    211\u001B[0m             \u001B[0mresult\u001B[0m \u001B[0;34m=\u001B[0m \u001B[0mself\u001B[0m\u001B[0;34m.\u001B[0m\u001B[0mdistribute\u001B[0m\u001B[0;34m(\u001B[0m\u001B[0m_function_with_partly_reduce\u001B[0m\u001B[0;34m,\u001B[0m \u001B[0mchunk_generator\u001B[0m\u001B[0;34m,\u001B[0m \u001B[0mmap_kwargs\u001B[0m\u001B[0;34m)\u001B[0m\u001B[0;34m,\u001B[0m\u001B[0;34m\u001B[0m\u001B[0;34m\u001B[0m\u001B[0m\n\u001B[1;32m    212\u001B[0m \u001B[0;34m\u001B[0m\u001B[0m\n\u001B[0;32m--> 213\u001B[0;31m         \u001B[0mresult\u001B[0m \u001B[0;34m=\u001B[0m \u001B[0mlist\u001B[0m\u001B[0;34m(\u001B[0m\u001B[0mitertools\u001B[0m\u001B[0;34m.\u001B[0m\u001B[0mchain\u001B[0m\u001B[0;34m.\u001B[0m\u001B[0mfrom_iterable\u001B[0m\u001B[0;34m(\u001B[0m\u001B[0mresult\u001B[0m\u001B[0;34m)\u001B[0m\u001B[0;34m)\u001B[0m\u001B[0;34m\u001B[0m\u001B[0;34m\u001B[0m\u001B[0m\n\u001B[0m\u001B[1;32m    214\u001B[0m \u001B[0;34m\u001B[0m\u001B[0m\n\u001B[1;32m    215\u001B[0m         \u001B[0mself\u001B[0m\u001B[0;34m.\u001B[0m\u001B[0mclose\u001B[0m\u001B[0;34m(\u001B[0m\u001B[0;34m)\u001B[0m\u001B[0;34m\u001B[0m\u001B[0;34m\u001B[0m\u001B[0m\n",
      "\u001B[0;32m~/miniconda3/envs/epileptic_seizure_detection/lib/python3.8/site-packages/tqdm/std.py\u001B[0m in \u001B[0;36m__iter__\u001B[0;34m(self)\u001B[0m\n\u001B[1;32m   1176\u001B[0m \u001B[0;34m\u001B[0m\u001B[0m\n\u001B[1;32m   1177\u001B[0m         \u001B[0;32mtry\u001B[0m\u001B[0;34m:\u001B[0m\u001B[0;34m\u001B[0m\u001B[0;34m\u001B[0m\u001B[0m\n\u001B[0;32m-> 1178\u001B[0;31m             \u001B[0;32mfor\u001B[0m \u001B[0mobj\u001B[0m \u001B[0;32min\u001B[0m \u001B[0miterable\u001B[0m\u001B[0;34m:\u001B[0m\u001B[0;34m\u001B[0m\u001B[0;34m\u001B[0m\u001B[0m\n\u001B[0m\u001B[1;32m   1179\u001B[0m                 \u001B[0;32myield\u001B[0m \u001B[0mobj\u001B[0m\u001B[0;34m\u001B[0m\u001B[0;34m\u001B[0m\u001B[0m\n\u001B[1;32m   1180\u001B[0m                 \u001B[0;31m# Update and possibly print the progressbar.\u001B[0m\u001B[0;34m\u001B[0m\u001B[0;34m\u001B[0m\u001B[0;34m\u001B[0m\u001B[0m\n",
      "\u001B[0;32m~/miniconda3/envs/epileptic_seizure_detection/lib/python3.8/multiprocessing/pool.py\u001B[0m in \u001B[0;36mnext\u001B[0;34m(self, timeout)\u001B[0m\n\u001B[1;32m    854\u001B[0m                     \u001B[0mself\u001B[0m\u001B[0;34m.\u001B[0m\u001B[0m_pool\u001B[0m \u001B[0;34m=\u001B[0m \u001B[0;32mNone\u001B[0m\u001B[0;34m\u001B[0m\u001B[0;34m\u001B[0m\u001B[0m\n\u001B[1;32m    855\u001B[0m                     \u001B[0;32mraise\u001B[0m \u001B[0mStopIteration\u001B[0m \u001B[0;32mfrom\u001B[0m \u001B[0;32mNone\u001B[0m\u001B[0;34m\u001B[0m\u001B[0;34m\u001B[0m\u001B[0m\n\u001B[0;32m--> 856\u001B[0;31m                 \u001B[0mself\u001B[0m\u001B[0;34m.\u001B[0m\u001B[0m_cond\u001B[0m\u001B[0;34m.\u001B[0m\u001B[0mwait\u001B[0m\u001B[0;34m(\u001B[0m\u001B[0mtimeout\u001B[0m\u001B[0;34m)\u001B[0m\u001B[0;34m\u001B[0m\u001B[0;34m\u001B[0m\u001B[0m\n\u001B[0m\u001B[1;32m    857\u001B[0m                 \u001B[0;32mtry\u001B[0m\u001B[0;34m:\u001B[0m\u001B[0;34m\u001B[0m\u001B[0;34m\u001B[0m\u001B[0m\n\u001B[1;32m    858\u001B[0m                     \u001B[0mitem\u001B[0m \u001B[0;34m=\u001B[0m \u001B[0mself\u001B[0m\u001B[0;34m.\u001B[0m\u001B[0m_items\u001B[0m\u001B[0;34m.\u001B[0m\u001B[0mpopleft\u001B[0m\u001B[0;34m(\u001B[0m\u001B[0;34m)\u001B[0m\u001B[0;34m\u001B[0m\u001B[0;34m\u001B[0m\u001B[0m\n",
      "\u001B[0;32m~/miniconda3/envs/epileptic_seizure_detection/lib/python3.8/threading.py\u001B[0m in \u001B[0;36mwait\u001B[0;34m(self, timeout)\u001B[0m\n\u001B[1;32m    300\u001B[0m         \u001B[0;32mtry\u001B[0m\u001B[0;34m:\u001B[0m    \u001B[0;31m# restore state no matter what (e.g., KeyboardInterrupt)\u001B[0m\u001B[0;34m\u001B[0m\u001B[0;34m\u001B[0m\u001B[0m\n\u001B[1;32m    301\u001B[0m             \u001B[0;32mif\u001B[0m \u001B[0mtimeout\u001B[0m \u001B[0;32mis\u001B[0m \u001B[0;32mNone\u001B[0m\u001B[0;34m:\u001B[0m\u001B[0;34m\u001B[0m\u001B[0;34m\u001B[0m\u001B[0m\n\u001B[0;32m--> 302\u001B[0;31m                 \u001B[0mwaiter\u001B[0m\u001B[0;34m.\u001B[0m\u001B[0macquire\u001B[0m\u001B[0;34m(\u001B[0m\u001B[0;34m)\u001B[0m\u001B[0;34m\u001B[0m\u001B[0;34m\u001B[0m\u001B[0m\n\u001B[0m\u001B[1;32m    303\u001B[0m                 \u001B[0mgotit\u001B[0m \u001B[0;34m=\u001B[0m \u001B[0;32mTrue\u001B[0m\u001B[0;34m\u001B[0m\u001B[0;34m\u001B[0m\u001B[0m\n\u001B[1;32m    304\u001B[0m             \u001B[0;32melse\u001B[0m\u001B[0;34m:\u001B[0m\u001B[0;34m\u001B[0m\u001B[0;34m\u001B[0m\u001B[0m\n",
      "\u001B[0;31mKeyboardInterrupt\u001B[0m: "
     ]
    },
    {
     "name": "stderr",
     "output_type": "stream",
     "text": [
      "Process ForkPoolWorker-5:\n",
      "Traceback (most recent call last):\n",
      "  File \"/home/yan/miniconda3/envs/epileptic_seizure_detection/lib/python3.8/multiprocessing/pool.py\", line 125, in worker\n",
      "    result = (True, func(*args, **kwds))\n",
      "  File \"/home/yan/miniconda3/envs/epileptic_seizure_detection/lib/python3.8/site-packages/tsfresh/utilities/distribution.py\", line 43, in _function_with_partly_reduce\n",
      "    results = list(itertools.chain.from_iterable(results))\n",
      "  File \"/home/yan/miniconda3/envs/epileptic_seizure_detection/lib/python3.8/site-packages/tsfresh/utilities/distribution.py\", line 42, in <genexpr>\n",
      "    results = (map_function(chunk, **kwargs) for chunk in chunk_list)\n",
      "  File \"/home/yan/miniconda3/envs/epileptic_seizure_detection/lib/python3.8/site-packages/tsfresh/feature_extraction/extraction.py\", line 337, in _do_extraction_on_chunk\n",
      "    return list(_f())\n",
      "  File \"/home/yan/miniconda3/envs/epileptic_seizure_detection/lib/python3.8/site-packages/tsfresh/feature_extraction/extraction.py\", line 325, in _f\n",
      "    for key, item in result:\n",
      "  File \"/home/yan/miniconda3/envs/epileptic_seizure_detection/lib/python3.8/site-packages/tsfresh/feature_extraction/extraction.py\", line 320, in <genexpr>\n",
      "    result = ((convert_to_output_format(param), func(x, **param)) for param in\n",
      "  File \"/home/yan/miniconda3/envs/epileptic_seizure_detection/lib/python3.8/site-packages/tsfresh/feature_extraction/feature_calculators.py\", line 1449, in change_quantiles\n",
      "    div = np.diff(x)\n",
      "  File \"<__array_function__ internals>\", line 5, in diff\n",
      "Process ForkPoolWorker-4:\n",
      "  File \"/home/yan/miniconda3/envs/epileptic_seizure_detection/lib/python3.8/site-packages/numpy/lib/function_base.py\", line 1244, in diff\n",
      "    a = asanyarray(a)\n",
      "  File \"/home/yan/miniconda3/envs/epileptic_seizure_detection/lib/python3.8/site-packages/numpy/core/_asarray.py\", line 171, in asanyarray\n",
      "    return array(a, dtype, copy=False, order=order, subok=True)\n",
      "KeyboardInterrupt\n",
      "\n",
      "During handling of the above exception, another exception occurred:\n",
      "\n",
      "Traceback (most recent call last):\n",
      "  File \"/home/yan/miniconda3/envs/epileptic_seizure_detection/lib/python3.8/multiprocessing/process.py\", line 315, in _bootstrap\n",
      "    self.run()\n",
      "  File \"/home/yan/miniconda3/envs/epileptic_seizure_detection/lib/python3.8/multiprocessing/process.py\", line 108, in run\n",
      "    self._target(*self._args, **self._kwargs)\n",
      "  File \"/home/yan/miniconda3/envs/epileptic_seizure_detection/lib/python3.8/multiprocessing/pool.py\", line 125, in worker\n",
      "    result = (True, func(*args, **kwds))\n",
      "Traceback (most recent call last):\n",
      "  File \"/home/yan/miniconda3/envs/epileptic_seizure_detection/lib/python3.8/multiprocessing/pool.py\", line 125, in worker\n",
      "    result = (True, func(*args, **kwds))\n",
      "KeyboardInterrupt\n",
      "  File \"/home/yan/miniconda3/envs/epileptic_seizure_detection/lib/python3.8/site-packages/tsfresh/utilities/distribution.py\", line 43, in _function_with_partly_reduce\n",
      "    results = list(itertools.chain.from_iterable(results))\n",
      "  File \"/home/yan/miniconda3/envs/epileptic_seizure_detection/lib/python3.8/site-packages/tsfresh/utilities/distribution.py\", line 42, in <genexpr>\n",
      "    results = (map_function(chunk, **kwargs) for chunk in chunk_list)\n",
      "  File \"/home/yan/miniconda3/envs/epileptic_seizure_detection/lib/python3.8/site-packages/tsfresh/feature_extraction/extraction.py\", line 337, in _do_extraction_on_chunk\n",
      "    return list(_f())\n",
      "  File \"/home/yan/miniconda3/envs/epileptic_seizure_detection/lib/python3.8/site-packages/tsfresh/feature_extraction/extraction.py\", line 325, in _f\n",
      "    for key, item in result:\n",
      "  File \"/home/yan/miniconda3/envs/epileptic_seizure_detection/lib/python3.8/site-packages/tsfresh/feature_extraction/extraction.py\", line 320, in <genexpr>\n",
      "    result = ((convert_to_output_format(param), func(x, **param)) for param in\n",
      "  File \"/home/yan/miniconda3/envs/epileptic_seizure_detection/lib/python3.8/site-packages/tsfresh/feature_extraction/feature_calculators.py\", line 1697, in fourier_entropy\n",
      "    _, pxx = welch(x, nperseg=min(len(x), 256))\n",
      "  File \"/home/yan/miniconda3/envs/epileptic_seizure_detection/lib/python3.8/site-packages/scipy/signal/spectral.py\", line 449, in welch\n",
      "    freqs, Pxx = csd(x, x, fs=fs, window=window, nperseg=nperseg,\n",
      "  File \"/home/yan/miniconda3/envs/epileptic_seizure_detection/lib/python3.8/site-packages/scipy/signal/spectral.py\", line 581, in csd\n",
      "    freqs, _, Pxy = _spectral_helper(x, y, fs, window, nperseg, noverlap, nfft,\n",
      "  File \"/home/yan/miniconda3/envs/epileptic_seizure_detection/lib/python3.8/site-packages/scipy/signal/spectral.py\", line 1740, in _spectral_helper\n",
      "    win, nperseg = _triage_segments(window, nperseg, input_length=x.shape[-1])\n",
      "  File \"/home/yan/miniconda3/envs/epileptic_seizure_detection/lib/python3.8/site-packages/scipy/signal/spectral.py\", line 1965, in _triage_segments\n",
      "    win = get_window(window, nperseg)\n",
      "  File \"/home/yan/miniconda3/envs/epileptic_seizure_detection/lib/python3.8/site-packages/scipy/signal/windows/windows.py\", line 2153, in get_window\n",
      "    return winfunc(*params)\n",
      "  File \"/home/yan/miniconda3/envs/epileptic_seizure_detection/lib/python3.8/site-packages/scipy/signal/windows/windows.py\", line 787, in hann\n",
      "    return general_hamming(M, 0.5, sym)\n",
      "  File \"/home/yan/miniconda3/envs/epileptic_seizure_detection/lib/python3.8/site-packages/scipy/signal/windows/windows.py\", line 1017, in general_hamming\n",
      "    return general_cosine(M, [alpha, 1. - alpha], sym)\n",
      "  File \"/home/yan/miniconda3/envs/epileptic_seizure_detection/lib/python3.8/site-packages/scipy/signal/windows/windows.py\", line 110, in general_cosine\n",
      "    return np.ones(M)\n",
      "Process ForkPoolWorker-6:\n",
      "  File \"/home/yan/miniconda3/envs/epileptic_seizure_detection/lib/python3.8/site-packages/numpy/core/numeric.py\", line 204, in ones\n",
      "    multiarray.copyto(a, 1, casting='unsafe')\n",
      "  File \"<__array_function__ internals>\", line 5, in copyto\n",
      "Traceback (most recent call last):\n",
      "  File \"/home/yan/miniconda3/envs/epileptic_seizure_detection/lib/python3.8/multiprocessing/pool.py\", line 125, in worker\n",
      "    result = (True, func(*args, **kwds))\n",
      "KeyboardInterrupt\n",
      "\n",
      "During handling of the above exception, another exception occurred:\n",
      "\n",
      "  File \"/home/yan/miniconda3/envs/epileptic_seizure_detection/lib/python3.8/site-packages/tsfresh/utilities/distribution.py\", line 43, in _function_with_partly_reduce\n",
      "    results = list(itertools.chain.from_iterable(results))\n",
      "  File \"/home/yan/miniconda3/envs/epileptic_seizure_detection/lib/python3.8/site-packages/tsfresh/utilities/distribution.py\", line 42, in <genexpr>\n",
      "    results = (map_function(chunk, **kwargs) for chunk in chunk_list)\n",
      "Traceback (most recent call last):\n",
      "  File \"/home/yan/miniconda3/envs/epileptic_seizure_detection/lib/python3.8/site-packages/tsfresh/feature_extraction/extraction.py\", line 337, in _do_extraction_on_chunk\n",
      "    return list(_f())\n",
      "  File \"/home/yan/miniconda3/envs/epileptic_seizure_detection/lib/python3.8/multiprocessing/process.py\", line 315, in _bootstrap\n",
      "    self.run()\n",
      "  File \"/home/yan/miniconda3/envs/epileptic_seizure_detection/lib/python3.8/site-packages/tsfresh/feature_extraction/extraction.py\", line 325, in _f\n",
      "    for key, item in result:\n",
      "  File \"/home/yan/miniconda3/envs/epileptic_seizure_detection/lib/python3.8/site-packages/tsfresh/feature_extraction/extraction.py\", line 320, in <genexpr>\n",
      "    result = ((convert_to_output_format(param), func(x, **param)) for param in\n",
      "  File \"/home/yan/miniconda3/envs/epileptic_seizure_detection/lib/python3.8/multiprocessing/process.py\", line 108, in run\n",
      "    self._target(*self._args, **self._kwargs)\n",
      "  File \"/home/yan/miniconda3/envs/epileptic_seizure_detection/lib/python3.8/site-packages/tsfresh/feature_extraction/feature_calculators.py\", line 274, in large_standard_deviation\n",
      "    return np.std(x) > (r * (np.max(x) - np.min(x)))\n",
      "  File \"<__array_function__ internals>\", line 5, in std\n",
      "  File \"/home/yan/miniconda3/envs/epileptic_seizure_detection/lib/python3.8/multiprocessing/pool.py\", line 125, in worker\n",
      "    result = (True, func(*args, **kwds))\n",
      "  File \"/home/yan/miniconda3/envs/epileptic_seizure_detection/lib/python3.8/site-packages/numpy/core/fromnumeric.py\", line 3560, in std\n",
      "    return _methods._std(a, axis=axis, dtype=dtype, out=out, ddof=ddof,\n",
      "  File \"/home/yan/miniconda3/envs/epileptic_seizure_detection/lib/python3.8/site-packages/numpy/core/_methods.py\", line 261, in _std\n",
      "    ret = _var(a, axis=axis, dtype=dtype, out=out, ddof=ddof,\n"
     ]
    },
    {
     "name": "stderr",
     "output_type": "stream",
     "text": [
      "  File \"/home/yan/miniconda3/envs/epileptic_seizure_detection/lib/python3.8/site-packages/numpy/core/_methods.py\", line 198, in _var\n",
      "    rcount = _count_reduce_items(arr, axis, keepdims=keepdims, where=where)\n",
      "  File \"/home/yan/miniconda3/envs/epileptic_seizure_detection/lib/python3.8/site-packages/numpy/core/_methods.py\", line 74, in _count_reduce_items\n",
      "    for ax in axis:\n",
      "Process ForkPoolWorker-2:\n",
      "KeyboardInterrupt\n",
      "\n",
      "During handling of the above exception, another exception occurred:\n",
      "\n",
      "KeyboardInterrupt\n",
      "Traceback (most recent call last):\n",
      "  File \"/home/yan/miniconda3/envs/epileptic_seizure_detection/lib/python3.8/multiprocessing/process.py\", line 315, in _bootstrap\n",
      "    self.run()\n",
      "  File \"/home/yan/miniconda3/envs/epileptic_seizure_detection/lib/python3.8/multiprocessing/process.py\", line 108, in run\n",
      "    self._target(*self._args, **self._kwargs)\n",
      "Traceback (most recent call last):\n",
      "  File \"/home/yan/miniconda3/envs/epileptic_seizure_detection/lib/python3.8/multiprocessing/pool.py\", line 125, in worker\n",
      "    result = (True, func(*args, **kwds))\n",
      "  File \"/home/yan/miniconda3/envs/epileptic_seizure_detection/lib/python3.8/site-packages/tsfresh/utilities/distribution.py\", line 43, in _function_with_partly_reduce\n",
      "    results = list(itertools.chain.from_iterable(results))\n",
      "  File \"/home/yan/miniconda3/envs/epileptic_seizure_detection/lib/python3.8/site-packages/tsfresh/utilities/distribution.py\", line 42, in <genexpr>\n",
      "    results = (map_function(chunk, **kwargs) for chunk in chunk_list)\n",
      "Process ForkPoolWorker-3:\n",
      "  File \"/home/yan/miniconda3/envs/epileptic_seizure_detection/lib/python3.8/multiprocessing/pool.py\", line 125, in worker\n",
      "    result = (True, func(*args, **kwds))\n",
      "Traceback (most recent call last):\n",
      "  File \"/home/yan/miniconda3/envs/epileptic_seizure_detection/lib/python3.8/multiprocessing/pool.py\", line 125, in worker\n",
      "    result = (True, func(*args, **kwds))\n",
      "  File \"/home/yan/miniconda3/envs/epileptic_seizure_detection/lib/python3.8/site-packages/tsfresh/feature_extraction/extraction.py\", line 337, in _do_extraction_on_chunk\n",
      "    return list(_f())\n",
      "  File \"/home/yan/miniconda3/envs/epileptic_seizure_detection/lib/python3.8/site-packages/tsfresh/utilities/distribution.py\", line 43, in _function_with_partly_reduce\n",
      "    results = list(itertools.chain.from_iterable(results))\n",
      "  File \"/home/yan/miniconda3/envs/epileptic_seizure_detection/lib/python3.8/site-packages/tsfresh/utilities/distribution.py\", line 42, in <genexpr>\n",
      "    results = (map_function(chunk, **kwargs) for chunk in chunk_list)\n",
      "  File \"/home/yan/miniconda3/envs/epileptic_seizure_detection/lib/python3.8/site-packages/tsfresh/feature_extraction/extraction.py\", line 337, in _do_extraction_on_chunk\n",
      "    return list(_f())\n",
      "KeyboardInterrupt\n",
      "  File \"/home/yan/miniconda3/envs/epileptic_seizure_detection/lib/python3.8/site-packages/tsfresh/feature_extraction/extraction.py\", line 300, in _f\n",
      "    if getattr(func, 'input', False) == 'pd.Series':\n",
      "  File \"/home/yan/miniconda3/envs/epileptic_seizure_detection/lib/python3.8/site-packages/tsfresh/feature_extraction/extraction.py\", line 323, in _f\n",
      "    result = [(\"\", func(x))]\n",
      "KeyboardInterrupt\n",
      "  File \"/home/yan/miniconda3/envs/epileptic_seizure_detection/lib/python3.8/site-packages/tsfresh/feature_extraction/feature_calculators.py\", line 945, in percentage_of_reoccurring_datapoints_to_all_datapoints\n",
      "    value_counts = x.value_counts()\n",
      "\n",
      "During handling of the above exception, another exception occurred:\n",
      "\n",
      "  File \"/home/yan/miniconda3/envs/epileptic_seizure_detection/lib/python3.8/site-packages/pandas/core/base.py\", line 1027, in value_counts\n",
      "    result = value_counts(\n",
      "  File \"/home/yan/miniconda3/envs/epileptic_seizure_detection/lib/python3.8/site-packages/pandas/core/algorithms.py\", line 825, in value_counts\n",
      "    result = result.sort_values(ascending=ascending)\n",
      "Traceback (most recent call last):\n",
      "  File \"/home/yan/miniconda3/envs/epileptic_seizure_detection/lib/python3.8/site-packages/pandas/core/series.py\", line 3265, in sort_values\n",
      "    result = self._constructor(\n",
      "  File \"/home/yan/miniconda3/envs/epileptic_seizure_detection/lib/python3.8/site-packages/pandas/core/series.py\", line 364, in __init__\n",
      "    data = sanitize_array(data, index, dtype, copy, raise_cast_failure=True)\n",
      "  File \"/home/yan/miniconda3/envs/epileptic_seizure_detection/lib/python3.8/site-packages/pandas/core/construction.py\", line 461, in sanitize_array\n",
      "    subarr = _try_cast(data, dtype, copy, raise_cast_failure)\n",
      "  File \"/home/yan/miniconda3/envs/epileptic_seizure_detection/lib/python3.8/site-packages/pandas/core/construction.py\", line 590, in _try_cast\n",
      "    subarr = maybe_cast_to_datetime(arr, dtype)\n",
      "  File \"/home/yan/miniconda3/envs/epileptic_seizure_detection/lib/python3.8/site-packages/pandas/core/dtypes/cast.py\", line 1512, in maybe_cast_to_datetime\n",
      "    value = maybe_infer_to_datetimelike(value)\n",
      "  File \"/home/yan/miniconda3/envs/epileptic_seizure_detection/lib/python3.8/site-packages/pandas/core/dtypes/cast.py\", line 1293, in maybe_infer_to_datetimelike\n",
      "    if isinstance(\n",
      "  File \"/home/yan/miniconda3/envs/epileptic_seizure_detection/lib/python3.8/site-packages/pandas/core/dtypes/generic.py\", line 32, in _check\n",
      "    return getattr(inst, attr, \"_typ\") in comp\n",
      "KeyboardInterrupt\n",
      "  File \"/home/yan/miniconda3/envs/epileptic_seizure_detection/lib/python3.8/multiprocessing/process.py\", line 315, in _bootstrap\n",
      "    self.run()\n",
      "  File \"/home/yan/miniconda3/envs/epileptic_seizure_detection/lib/python3.8/multiprocessing/process.py\", line 108, in run\n",
      "    self._target(*self._args, **self._kwargs)\n",
      "\n",
      "During handling of the above exception, another exception occurred:\n",
      "\n",
      "  File \"/home/yan/miniconda3/envs/epileptic_seizure_detection/lib/python3.8/multiprocessing/pool.py\", line 125, in worker\n",
      "    result = (True, func(*args, **kwds))\n",
      "KeyboardInterrupt\n",
      "Process ForkPoolWorker-1:\n",
      "Traceback (most recent call last):\n",
      "Traceback (most recent call last):\n",
      "  File \"/home/yan/miniconda3/envs/epileptic_seizure_detection/lib/python3.8/multiprocessing/pool.py\", line 125, in worker\n",
      "    result = (True, func(*args, **kwds))\n",
      "  File \"/home/yan/miniconda3/envs/epileptic_seizure_detection/lib/python3.8/site-packages/tsfresh/utilities/distribution.py\", line 43, in _function_with_partly_reduce\n",
      "    results = list(itertools.chain.from_iterable(results))\n",
      "  File \"/home/yan/miniconda3/envs/epileptic_seizure_detection/lib/python3.8/site-packages/tsfresh/utilities/distribution.py\", line 42, in <genexpr>\n",
      "    results = (map_function(chunk, **kwargs) for chunk in chunk_list)\n",
      "  File \"/home/yan/miniconda3/envs/epileptic_seizure_detection/lib/python3.8/multiprocessing/process.py\", line 315, in _bootstrap\n",
      "    self.run()\n",
      "  File \"/home/yan/miniconda3/envs/epileptic_seizure_detection/lib/python3.8/multiprocessing/process.py\", line 108, in run\n",
      "    self._target(*self._args, **self._kwargs)\n",
      "  File \"/home/yan/miniconda3/envs/epileptic_seizure_detection/lib/python3.8/site-packages/tsfresh/feature_extraction/extraction.py\", line 337, in _do_extraction_on_chunk\n",
      "    return list(_f())\n",
      "  File \"/home/yan/miniconda3/envs/epileptic_seizure_detection/lib/python3.8/site-packages/tsfresh/feature_extraction/extraction.py\", line 325, in _f\n",
      "    for key, item in result:\n",
      "  File \"/home/yan/miniconda3/envs/epileptic_seizure_detection/lib/python3.8/site-packages/tsfresh/feature_extraction/extraction.py\", line 320, in <genexpr>\n",
      "    result = ((convert_to_output_format(param), func(x, **param)) for param in\n",
      "  File \"/home/yan/miniconda3/envs/epileptic_seizure_detection/lib/python3.8/multiprocessing/pool.py\", line 125, in worker\n",
      "    result = (True, func(*args, **kwds))\n",
      "KeyboardInterrupt\n",
      "  File \"/home/yan/miniconda3/envs/epileptic_seizure_detection/lib/python3.8/site-packages/tsfresh/feature_extraction/feature_calculators.py\", line 1455, in change_quantiles\n",
      "    bin_cat = pd.qcut(x, [ql, qh], labels=False)\n",
      "  File \"/home/yan/miniconda3/envs/epileptic_seizure_detection/lib/python3.8/site-packages/pandas/core/reshape/tile.py\", line 358, in qcut\n",
      "    fac, bins = _bins_to_cuts(\n",
      "  File \"/home/yan/miniconda3/envs/epileptic_seizure_detection/lib/python3.8/site-packages/pandas/core/reshape/tile.py\", line 396, in _bins_to_cuts\n",
      "    unique_bins = algos.unique(bins)\n",
      "  File \"/home/yan/miniconda3/envs/epileptic_seizure_detection/lib/python3.8/site-packages/pandas/core/algorithms.py\", line 407, in unique\n",
      "    uniques = table.unique(values)\n"
     ]
    },
    {
     "name": "stderr",
     "output_type": "stream",
     "text": [
      "KeyboardInterrupt\n",
      "\n",
      "During handling of the above exception, another exception occurred:\n",
      "\n",
      "Traceback (most recent call last):\n",
      "  File \"/home/yan/miniconda3/envs/epileptic_seizure_detection/lib/python3.8/multiprocessing/process.py\", line 315, in _bootstrap\n",
      "    self.run()\n",
      "  File \"/home/yan/miniconda3/envs/epileptic_seizure_detection/lib/python3.8/multiprocessing/process.py\", line 108, in run\n",
      "    self._target(*self._args, **self._kwargs)\n",
      "  File \"/home/yan/miniconda3/envs/epileptic_seizure_detection/lib/python3.8/multiprocessing/pool.py\", line 125, in worker\n",
      "    result = (True, func(*args, **kwds))\n",
      "KeyboardInterrupt\n"
     ]
    }
   ],
   "source": [
    "input_data_extracted_features = extract_features(input_data, column_id=\"Unnamed\")"
   ]
  },
  {
   "cell_type": "code",
   "execution_count": null,
   "metadata": {
    "pycharm": {
     "name": "#%%\n"
    }
   },
   "outputs": [],
   "source": []
  }
 ],
 "metadata": {
  "kernelspec": {
   "display_name": "Python 3",
   "language": "python",
   "name": "python3"
  },
  "language_info": {
   "codemirror_mode": {
    "name": "ipython",
    "version": 3
   },
   "file_extension": ".py",
   "mimetype": "text/x-python",
   "name": "python",
   "nbconvert_exporter": "python",
   "pygments_lexer": "ipython3",
   "version": "3.8.8"
  }
 },
 "nbformat": 4,
 "nbformat_minor": 1
}