{
 "cells": [
  {
   "cell_type": "code",
   "execution_count": 1,
   "metadata": {
    "ExecuteTime": {
     "end_time": "2021-04-29T12:26:23.120894Z",
     "start_time": "2021-04-29T12:26:22.559143Z"
    }
   },
   "outputs": [],
   "source": [
    "import sys\n",
    "sys.path.append(\n",
    "    \"/home/user/Documents/OTUS/HW_03/\"\n",
    ")\n",
    "\n",
    "import warnings\n",
    "warnings.filterwarnings(\"ignore\")\n",
    "\n",
    "import pandas as pd\n",
    "import numpy as np\n",
    "import time\n",
    "from tqdm.autonotebook import tqdm\n",
    "\n",
    "import seaborn as sns\n",
    "import matplotlib.pyplot as plt\n",
    "\n",
    "from sklearn.model_selection import StratifiedShuffleSplit\n",
    "\n",
    "from src.signal_processing import *\n",
    "\n",
    "%load_ext autoreload\n",
    "%autoreload 2"
   ]
  },
  {
   "cell_type": "code",
   "execution_count": 2,
   "metadata": {
    "ExecuteTime": {
     "end_time": "2021-04-29T12:26:23.241735Z",
     "start_time": "2021-04-29T12:26:23.121979Z"
    },
    "pycharm": {
     "name": "#%%\n"
    }
   },
   "outputs": [],
   "source": [
    "INPUT_DATA_PATH = \"./data/Epileptic Seizure Recognition.csv\"\n",
    "\n",
    "input_data = pd.read_csv(INPUT_DATA_PATH)"
   ]
  },
  {
   "cell_type": "markdown",
   "metadata": {},
   "source": [
    "# 1. EDA"
   ]
  },
  {
   "cell_type": "code",
   "execution_count": 3,
   "metadata": {
    "ExecuteTime": {
     "end_time": "2021-04-29T12:26:23.254274Z",
     "start_time": "2021-04-29T12:26:23.242953Z"
    },
    "pycharm": {
     "name": "#%%\n"
    }
   },
   "outputs": [
    {
     "name": "stdout",
     "output_type": "stream",
     "text": [
      "Shape: (11500, 180)\n",
      "Dtypes: int64     179\n",
      "object      1\n",
      "dtype: int64\n",
      "Missing_values: 0\n"
     ]
    }
   ],
   "source": [
    "print(f\"Shape: {input_data.shape}\")\n",
    "print(f\"Dtypes: {input_data.dtypes.value_counts()}\")\n",
    "print(f\"Missing_values: {input_data.isna().sum().sum()}\")"
   ]
  },
  {
   "cell_type": "code",
   "execution_count": 4,
   "metadata": {
    "ExecuteTime": {
     "end_time": "2021-04-29T12:26:23.262615Z",
     "start_time": "2021-04-29T12:26:23.255128Z"
    },
    "pycharm": {
     "name": "#%%\n"
    }
   },
   "outputs": [],
   "source": [
    "FEATURE_COLUMNS = input_data.columns.tolist()\n",
    "TARGET_COLUMN = \"y\"\n",
    "FEATURE_COLUMNS.remove(TARGET_COLUMN)\n",
    "FEATURE_COLUMNS.remove(\"Unnamed\")"
   ]
  },
  {
   "cell_type": "code",
   "execution_count": 5,
   "metadata": {
    "ExecuteTime": {
     "end_time": "2021-04-29T12:26:23.272135Z",
     "start_time": "2021-04-29T12:26:23.263349Z"
    },
    "pycharm": {
     "name": "#%%\n"
    }
   },
   "outputs": [],
   "source": [
    "input_data[TARGET_COLUMN] = np.where(input_data[TARGET_COLUMN] > 1, 0, 1)"
   ]
  },
  {
   "cell_type": "code",
   "execution_count": 6,
   "metadata": {
    "ExecuteTime": {
     "end_time": "2021-04-29T12:26:23.283999Z",
     "start_time": "2021-04-29T12:26:23.273034Z"
    },
    "pycharm": {
     "name": "#%%\n"
    }
   },
   "outputs": [
    {
     "data": {
      "text/plain": [
       "0    9200\n",
       "1    2300\n",
       "Name: y, dtype: int64"
      ]
     },
     "execution_count": 6,
     "metadata": {},
     "output_type": "execute_result"
    }
   ],
   "source": [
    "input_data[TARGET_COLUMN].value_counts()"
   ]
  },
  {
   "cell_type": "markdown",
   "metadata": {},
   "source": [
    "Data is imbalanced so it is better to use stratification for splits"
   ]
  },
  {
   "cell_type": "code",
   "execution_count": 7,
   "metadata": {
    "ExecuteTime": {
     "end_time": "2021-04-29T12:26:23.313242Z",
     "start_time": "2021-04-29T12:26:23.284819Z"
    },
    "pycharm": {
     "name": "#%%\n"
    }
   },
   "outputs": [],
   "source": [
    "X = input_data[FEATURE_COLUMNS]\n",
    "y = input_data[TARGET_COLUMN]\n",
    "\n",
    "strat_shuff_split = StratifiedShuffleSplit(n_splits=1, test_size=0.2, random_state=1337)\n",
    "train_idx, test_idx = next(strat_shuff_split.split(X, y))\n",
    "\n",
    "X_train = input_data.loc[train_idx, X.columns.values]\n",
    "y_train = input_data.loc[train_idx, 'y']\n",
    "\n",
    "X_test = input_data.loc[test_idx, X.columns.values]\n",
    "y_test = input_data.loc[test_idx, 'y']"
   ]
  },
  {
   "cell_type": "code",
   "execution_count": 8,
   "metadata": {
    "ExecuteTime": {
     "end_time": "2021-04-29T12:26:23.324382Z",
     "start_time": "2021-04-29T12:26:23.314545Z"
    },
    "pycharm": {
     "name": "#%%\n"
    }
   },
   "outputs": [
    {
     "name": "stdout",
     "output_type": "stream",
     "text": [
      "0    0.8\n",
      "1    0.2\n",
      "Name: y, dtype: float64\n",
      "0    0.8\n",
      "1    0.2\n",
      "Name: y, dtype: float64\n"
     ]
    }
   ],
   "source": [
    "# Stratification check\n",
    "print(y_train.value_counts(normalize=True).sort_index())\n",
    "print(y_test.value_counts(normalize=True).sort_index())"
   ]
  },
  {
   "cell_type": "markdown",
   "metadata": {},
   "source": [
    "# 2. ML"
   ]
  },
  {
   "cell_type": "code",
   "execution_count": 9,
   "metadata": {
    "ExecuteTime": {
     "end_time": "2021-04-29T12:26:23.441480Z",
     "start_time": "2021-04-29T12:26:23.325374Z"
    },
    "pycharm": {
     "name": "#%%\n"
    }
   },
   "outputs": [
    {
     "data": {
      "text/plain": [
       "<AxesSubplot:>"
      ]
     },
     "execution_count": 9,
     "metadata": {},
     "output_type": "execute_result"
    },
    {
     "data": {
      "image/png": "[encoded data removed]",
      "text/plain": [
       "<Figure size 432x288 with 1 Axes>"
      ]
     },
     "metadata": {
      "needs_background": "light"
     },
     "output_type": "display_data"
    }
   ],
   "source": [
    "pd.DataFrame(X_train).groupby(pd.Series(y_train)).mean().T.plot()"
   ]
  },
  {
   "cell_type": "markdown",
   "metadata": {},
   "source": [
    "### 2.1 Baseline"
   ]
  },
  {
   "cell_type": "code",
   "execution_count": 10,
   "metadata": {
    "ExecuteTime": {
     "end_time": "2021-04-29T12:26:23.479855Z",
     "start_time": "2021-04-29T12:26:23.442358Z"
    },
    "pycharm": {
     "name": "#%%\n"
    }
   },
   "outputs": [],
   "source": [
    "from catboost import CatBoostClassifier\n",
    "\n",
    "from sklearn.metrics import f1_score\n",
    "from sklearn.linear_model import LogisticRegression\n",
    "from sklearn.svm import SVC\n",
    "from sklearn.ensemble import RandomForestClassifier\n",
    "from sklearn.metrics import classification_report"
   ]
  },
  {
   "cell_type": "code",
   "execution_count": 11,
   "metadata": {
    "ExecuteTime": {
     "end_time": "2021-04-29T12:26:23.489222Z",
     "start_time": "2021-04-29T12:26:23.480778Z"
    },
    "pycharm": {
     "name": "#%%\n"
    }
   },
   "outputs": [],
   "source": [
    "classifiers = [\n",
    "    LogisticRegression(verbose=False),\n",
    "    SVC(verbose=False),\n",
    "    RandomForestClassifier(verbose=False),\n",
    "    CatBoostClassifier(verbose=False)\n",
    "]"
   ]
  },
  {
   "cell_type": "code",
   "execution_count": 12,
   "metadata": {
    "ExecuteTime": {
     "end_time": "2021-04-29T12:26:23.499270Z",
     "start_time": "2021-04-29T12:26:23.490117Z"
    },
    "pycharm": {
     "name": "#%%\n"
    }
   },
   "outputs": [],
   "source": [
    "def create_report(clf_list, X_train, y_train, X_test, y_test):\n",
    "    for clf in clf_list:\n",
    "        clf_name = clf.__class__.__name__\n",
    "        clf.fit(X_train, y_train)\n",
    "\n",
    "        y_pred = clf.predict(X_test)\n",
    "\n",
    "        train_f1_score = f1_score(y_train, clf.predict(X_train))\n",
    "        test_f1_score = f1_score(y_test, y_pred)\n",
    "\n",
    "        print(\"=\" * 50)\n",
    "        print(clf_name)\n",
    "        print(f\"Train score: {train_f1_score}\")\n",
    "        print(f\"Test score: {test_f1_score}\")\n",
    "        print(classification_report(y_test, y_pred))"
   ]
  },
  {
   "cell_type": "code",
   "execution_count": 13,
   "metadata": {
    "ExecuteTime": {
     "end_time": "2021-04-29T12:26:41.536310Z",
     "start_time": "2021-04-29T12:26:23.500107Z"
    },
    "pycharm": {
     "name": "#%%\n"
    }
   },
   "outputs": [
    {
     "name": "stdout",
     "output_type": "stream",
     "text": [
      "==================================================\n",
      "LogisticRegression\n",
      "Train score: 0.3692870201096892\n",
      "Test score: 0.3155299917830731\n",
      "              precision    recall  f1-score   support\n",
      "\n",
      "           0       0.83      0.69      0.75      1840\n",
      "           1       0.25      0.42      0.32       460\n",
      "\n",
      "    accuracy                           0.64      2300\n",
      "   macro avg       0.54      0.56      0.53      2300\n",
      "weighted avg       0.71      0.64      0.67      2300\n",
      "\n",
      "==================================================\n",
      "SVC\n",
      "Train score: 0.9547738693467338\n",
      "Test score: 0.9348066298342542\n",
      "              precision    recall  f1-score   support\n",
      "\n",
      "           0       0.98      0.99      0.98      1840\n",
      "           1       0.95      0.92      0.93       460\n",
      "\n",
      "    accuracy                           0.97      2300\n",
      "   macro avg       0.97      0.95      0.96      2300\n",
      "weighted avg       0.97      0.97      0.97      2300\n",
      "\n",
      "==================================================\n",
      "RandomForestClassifier\n",
      "Train score: 1.0\n",
      "Test score: 0.9535135135135134\n",
      "              precision    recall  f1-score   support\n",
      "\n",
      "           0       0.99      0.99      0.99      1840\n",
      "           1       0.95      0.96      0.95       460\n",
      "\n",
      "    accuracy                           0.98      2300\n",
      "   macro avg       0.97      0.97      0.97      2300\n",
      "weighted avg       0.98      0.98      0.98      2300\n",
      "\n",
      "==================================================\n",
      "CatBoostClassifier\n",
      "Train score: 0.999728187007339\n",
      "Test score: 0.9440175631174534\n",
      "              precision    recall  f1-score   support\n",
      "\n",
      "           0       0.98      0.99      0.99      1840\n",
      "           1       0.95      0.93      0.94       460\n",
      "\n",
      "    accuracy                           0.98      2300\n",
      "   macro avg       0.97      0.96      0.97      2300\n",
      "weighted avg       0.98      0.98      0.98      2300\n",
      "\n"
     ]
    }
   ],
   "source": [
    "create_report(classifiers, X_train, y_train, X_test, y_test)"
   ]
  },
  {
   "cell_type": "markdown",
   "metadata": {},
   "source": [
    "### 2.2 FFT"
   ]
  },
  {
   "cell_type": "code",
   "execution_count": 14,
   "metadata": {
    "ExecuteTime": {
     "end_time": "2021-04-29T12:26:41.545055Z",
     "start_time": "2021-04-29T12:26:41.537072Z"
    },
    "pycharm": {
     "name": "#%%\n"
    }
   },
   "outputs": [],
   "source": [
    "N = 178     # длина сигнала\n",
    "f_s = 178  # частота Hz\n",
    "t_n = 1  # длина нашего сигнала в секундах\n",
    "T = t_n / N # период сигнала\n",
    "sample_rate = 1 / f_s\n",
    "denominator = 10"
   ]
  },
  {
   "cell_type": "code",
   "execution_count": 15,
   "metadata": {
    "ExecuteTime": {
     "end_time": "2021-04-29T12:26:49.698343Z",
     "start_time": "2021-04-29T12:26:41.545803Z"
    },
    "pycharm": {
     "name": "#%%\n"
    }
   },
   "outputs": [
    {
     "data": {
      "application/vnd.jupyter.widget-view+json": {
       "model_id": "",
       "version_major": 2,
       "version_minor": 0
      },
      "text/plain": [
       "  0%|          | 0/9200 [00:00<?, ?it/s]"
      ]
     },
     "metadata": {},
     "output_type": "display_data"
    },
    {
     "data": {
      "application/vnd.jupyter.widget-view+json": {
       "model_id": "",
       "version_major": 2,
       "version_minor": 0
      },
      "text/plain": [
       "  0%|          | 0/2300 [00:00<?, ?it/s]"
      ]
     },
     "metadata": {},
     "output_type": "display_data"
    }
   ],
   "source": [
    "X_train_fft, _ = extract_features_labels(X_train, y_train.values, T, N, f_s, denominator)\n",
    "X_test_fft, _ = extract_features_labels(X_test, y_test.values, T, N, f_s, denominator)"
   ]
  },
  {
   "cell_type": "code",
   "execution_count": 16,
   "metadata": {
    "ExecuteTime": {
     "end_time": "2021-04-29T12:26:49.803366Z",
     "start_time": "2021-04-29T12:26:49.699515Z"
    },
    "pycharm": {
     "name": "#%%\n"
    }
   },
   "outputs": [
    {
     "data": {
      "text/plain": [
       "<AxesSubplot:>"
      ]
     },
     "execution_count": 16,
     "metadata": {},
     "output_type": "execute_result"
    },
    {
     "data": {
      "image/png": "[encoded data removed]",
      "text/plain": [
       "<Figure size 432x288 with 1 Axes>"
      ]
     },
     "metadata": {
      "needs_background": "light"
     },
     "output_type": "display_data"
    }
   ],
   "source": [
    "pd.DataFrame(X_train_fft).groupby(pd.Series(y_train)).mean().T.plot()"
   ]
  },
  {
   "cell_type": "code",
   "execution_count": 17,
   "metadata": {
    "ExecuteTime": {
     "end_time": "2021-04-29T12:26:49.813618Z",
     "start_time": "2021-04-29T12:26:49.804376Z"
    },
    "pycharm": {
     "name": "#%%\n"
    }
   },
   "outputs": [
    {
     "name": "stdout",
     "output_type": "stream",
     "text": [
      "New features count: 30\n",
      "Features dimension reduction: 148\n"
     ]
    }
   ],
   "source": [
    "print(f\"New features count: {X_train_fft.shape[1]}\")\n",
    "print(f\"Features dimension reduction: {X_train.shape[1] - X_train_fft.shape[1]}\")"
   ]
  },
  {
   "cell_type": "code",
   "execution_count": 18,
   "metadata": {
    "ExecuteTime": {
     "end_time": "2021-04-29T12:26:49.823183Z",
     "start_time": "2021-04-29T12:26:49.814474Z"
    },
    "pycharm": {
     "name": "#%%\n"
    }
   },
   "outputs": [],
   "source": [
    "clf = CatBoostClassifier(verbose=False)"
   ]
  },
  {
   "cell_type": "code",
   "execution_count": 19,
   "metadata": {
    "ExecuteTime": {
     "end_time": "2021-04-29T12:26:52.252114Z",
     "start_time": "2021-04-29T12:26:49.824041Z"
    },
    "pycharm": {
     "name": "#%%\n"
    }
   },
   "outputs": [
    {
     "name": "stdout",
     "output_type": "stream",
     "text": [
      "==================================================\n",
      "CatBoostClassifier\n",
      "Train score: 0.9991845610220169\n",
      "Test score: 0.9620801733477788\n",
      "              precision    recall  f1-score   support\n",
      "\n",
      "           0       0.99      0.99      0.99      1840\n",
      "           1       0.96      0.97      0.96       460\n",
      "\n",
      "    accuracy                           0.98      2300\n",
      "   macro avg       0.98      0.98      0.98      2300\n",
      "weighted avg       0.98      0.98      0.98      2300\n",
      "\n"
     ]
    }
   ],
   "source": [
    "create_report([clf], X_train_fft, y_train, X_test_fft, y_test)"
   ]
  },
  {
   "cell_type": "code",
   "execution_count": 20,
   "metadata": {
    "ExecuteTime": {
     "end_time": "2021-04-29T12:26:52.261149Z",
     "start_time": "2021-04-29T12:26:52.253074Z"
    },
    "pycharm": {
     "name": "#%%\n"
    }
   },
   "outputs": [],
   "source": [
    "top_features = np.argwhere(clf.feature_importances_ > 2).flatten()"
   ]
  },
  {
   "cell_type": "code",
   "execution_count": 21,
   "metadata": {
    "ExecuteTime": {
     "end_time": "2021-04-29T12:26:52.270770Z",
     "start_time": "2021-04-29T12:26:52.261904Z"
    },
    "pycharm": {
     "name": "#%%\n"
    }
   },
   "outputs": [
    {
     "data": {
      "text/plain": [
       "(20,)"
      ]
     },
     "execution_count": 21,
     "metadata": {},
     "output_type": "execute_result"
    }
   ],
   "source": [
    "clf.feature_importances_[top_features].shape"
   ]
  },
  {
   "cell_type": "code",
   "execution_count": 22,
   "metadata": {
    "ExecuteTime": {
     "end_time": "2021-04-29T12:26:52.280414Z",
     "start_time": "2021-04-29T12:26:52.271594Z"
    },
    "pycharm": {
     "name": "#%%\n"
    }
   },
   "outputs": [],
   "source": [
    "clf_top_features_only = CatBoostClassifier(verbose=False)"
   ]
  },
  {
   "cell_type": "code",
   "execution_count": 23,
   "metadata": {
    "ExecuteTime": {
     "end_time": "2021-04-29T12:26:54.529753Z",
     "start_time": "2021-04-29T12:26:52.282327Z"
    },
    "pycharm": {
     "name": "#%%\n"
    }
   },
   "outputs": [
    {
     "name": "stdout",
     "output_type": "stream",
     "text": [
      "==================================================\n",
      "CatBoostClassifier\n",
      "Train score: 0.9991845610220169\n",
      "Test score: 0.9621621621621621\n",
      "              precision    recall  f1-score   support\n",
      "\n",
      "           0       0.99      0.99      0.99      1840\n",
      "           1       0.96      0.97      0.96       460\n",
      "\n",
      "    accuracy                           0.98      2300\n",
      "   macro avg       0.97      0.98      0.98      2300\n",
      "weighted avg       0.98      0.98      0.98      2300\n",
      "\n"
     ]
    }
   ],
   "source": [
    "create_report([clf_top_features_only], X_train_fft[:, top_features], y_train, X_test_fft[:, top_features], y_test)"
   ]
  },
  {
   "cell_type": "markdown",
   "metadata": {
    "pycharm": {
     "name": "#%% md\n"
    }
   },
   "source": [
    "### 2.3 Wavelet"
   ]
  },
  {
   "cell_type": "code",
   "execution_count": 24,
   "metadata": {
    "ExecuteTime": {
     "end_time": "2021-04-29T12:27:23.866481Z",
     "start_time": "2021-04-29T12:26:54.530926Z"
    },
    "pycharm": {
     "name": "#%%\n"
    }
   },
   "outputs": [
    {
     "data": {
      "application/vnd.jupyter.widget-view+json": {
       "model_id": "",
       "version_major": 2,
       "version_minor": 0
      },
      "text/plain": [
       "  0%|          | 0/9200 [00:00<?, ?it/s]"
      ]
     },
     "metadata": {},
     "output_type": "display_data"
    },
    {
     "data": {
      "application/vnd.jupyter.widget-view+json": {
       "model_id": "",
       "version_major": 2,
       "version_minor": 0
      },
      "text/plain": [
       "  0%|          | 0/2300 [00:00<?, ?it/s]"
      ]
     },
     "metadata": {},
     "output_type": "display_data"
    }
   ],
   "source": [
    "# According to this paper (pdf inside)\n",
    "# https://www.mdpi.com/1424-8220/15/11/29015/pdf\n",
    "\n",
    "waveletname = 'sym9'\n",
    "X_train_wt, _ = get_uci_har_features(X_train, y_train, waveletname)\n",
    "X_test_wt, _ = get_uci_har_features(X_test, y_test, waveletname)"
   ]
  },
  {
   "cell_type": "code",
   "execution_count": 25,
   "metadata": {
    "ExecuteTime": {
     "end_time": "2021-04-29T12:27:23.967720Z",
     "start_time": "2021-04-29T12:27:23.867378Z"
    },
    "pycharm": {
     "name": "#%%\n"
    }
   },
   "outputs": [
    {
     "data": {
      "text/plain": [
       "<AxesSubplot:>"
      ]
     },
     "execution_count": 25,
     "metadata": {},
     "output_type": "execute_result"
    },
    {
     "data": {
      "image/png": "[encoded data removed]",
      "text/plain": [
       "<Figure size 432x288 with 1 Axes>"
      ]
     },
     "metadata": {
      "needs_background": "light"
     },
     "output_type": "display_data"
    }
   ],
   "source": [
    "pd.DataFrame(X_train_wt).groupby(pd.Series(y_train)).mean().T.plot()"
   ]
  },
  {
   "cell_type": "code",
   "execution_count": 26,
   "metadata": {
    "ExecuteTime": {
     "end_time": "2021-04-29T12:27:23.977590Z",
     "start_time": "2021-04-29T12:27:23.968544Z"
    },
    "pycharm": {
     "name": "#%%\n"
    }
   },
   "outputs": [
    {
     "name": "stdout",
     "output_type": "stream",
     "text": [
      "New features count: 48\n",
      "Features dimension reduction: 130\n"
     ]
    }
   ],
   "source": [
    "print(f\"New features count: {X_train_wt.shape[1]}\")\n",
    "print(f\"Features dimension reduction: {X_train.shape[1] - X_train_wt.shape[1]}\")"
   ]
  },
  {
   "cell_type": "code",
   "execution_count": 27,
   "metadata": {
    "ExecuteTime": {
     "end_time": "2021-04-29T12:27:23.987530Z",
     "start_time": "2021-04-29T12:27:23.978421Z"
    },
    "pycharm": {
     "name": "#%%\n"
    }
   },
   "outputs": [],
   "source": [
    "clf = CatBoostClassifier(verbose=False)"
   ]
  },
  {
   "cell_type": "code",
   "execution_count": 28,
   "metadata": {
    "ExecuteTime": {
     "end_time": "2021-04-29T12:27:26.762669Z",
     "start_time": "2021-04-29T12:27:23.988368Z"
    },
    "pycharm": {
     "name": "#%%\n"
    }
   },
   "outputs": [
    {
     "name": "stdout",
     "output_type": "stream",
     "text": [
      "==================================================\n",
      "CatBoostClassifier\n",
      "Train score: 1.0\n",
      "Test score: 0.9696969696969697\n",
      "              precision    recall  f1-score   support\n",
      "\n",
      "           0       0.99      0.99      0.99      1840\n",
      "           1       0.97      0.97      0.97       460\n",
      "\n",
      "    accuracy                           0.99      2300\n",
      "   macro avg       0.98      0.98      0.98      2300\n",
      "weighted avg       0.99      0.99      0.99      2300\n",
      "\n"
     ]
    }
   ],
   "source": [
    "create_report([clf], X_train_wt, y_train, X_test_wt, y_test)"
   ]
  },
  {
   "cell_type": "code",
   "execution_count": 29,
   "metadata": {
    "ExecuteTime": {
     "end_time": "2021-04-29T12:27:26.776110Z",
     "start_time": "2021-04-29T12:27:26.763990Z"
    },
    "pycharm": {
     "name": "#%%\n"
    }
   },
   "outputs": [],
   "source": [
    "top_features = np.argwhere(clf.feature_importances_ > 1.95).flatten()"
   ]
  },
  {
   "cell_type": "code",
   "execution_count": 30,
   "metadata": {
    "ExecuteTime": {
     "end_time": "2021-04-29T12:27:26.790359Z",
     "start_time": "2021-04-29T12:27:26.777131Z"
    },
    "pycharm": {
     "name": "#%%\n"
    }
   },
   "outputs": [
    {
     "data": {
      "text/plain": [
       "(18,)"
      ]
     },
     "execution_count": 30,
     "metadata": {},
     "output_type": "execute_result"
    }
   ],
   "source": [
    "clf.feature_importances_[top_features].shape"
   ]
  },
  {
   "cell_type": "code",
   "execution_count": 31,
   "metadata": {
    "ExecuteTime": {
     "end_time": "2021-04-29T12:27:26.800101Z",
     "start_time": "2021-04-29T12:27:26.791222Z"
    },
    "pycharm": {
     "name": "#%%\n"
    }
   },
   "outputs": [],
   "source": [
    "clf_top_features_only = CatBoostClassifier(verbose=False)"
   ]
  },
  {
   "cell_type": "code",
   "execution_count": 32,
   "metadata": {
    "ExecuteTime": {
     "end_time": "2021-04-29T12:27:29.032941Z",
     "start_time": "2021-04-29T12:27:26.800945Z"
    },
    "pycharm": {
     "name": "#%%\n"
    }
   },
   "outputs": [
    {
     "name": "stdout",
     "output_type": "stream",
     "text": [
      "==================================================\n",
      "CatBoostClassifier\n",
      "Train score: 0.999728187007339\n",
      "Test score: 0.9761904761904762\n",
      "              precision    recall  f1-score   support\n",
      "\n",
      "           0       1.00      0.99      0.99      1840\n",
      "           1       0.97      0.98      0.98       460\n",
      "\n",
      "    accuracy                           0.99      2300\n",
      "   macro avg       0.98      0.99      0.99      2300\n",
      "weighted avg       0.99      0.99      0.99      2300\n",
      "\n"
     ]
    }
   ],
   "source": [
    "create_report([clf_top_features_only], X_train_wt[:, top_features], y_train, X_test_wt[:, top_features], y_test)"
   ]
  },
  {
   "cell_type": "markdown",
   "metadata": {},
   "source": [
    "### 2.4 Fourier + Wavelet"
   ]
  },
  {
   "cell_type": "code",
   "execution_count": 33,
   "metadata": {
    "ExecuteTime": {
     "end_time": "2021-04-29T12:27:29.042319Z",
     "start_time": "2021-04-29T12:27:29.033860Z"
    },
    "pycharm": {
     "name": "#%%\n"
    }
   },
   "outputs": [],
   "source": [
    "clf_top_features_only = CatBoostClassifier(verbose=False)"
   ]
  },
  {
   "cell_type": "code",
   "execution_count": 34,
   "metadata": {
    "ExecuteTime": {
     "end_time": "2021-04-29T12:27:32.499487Z",
     "start_time": "2021-04-29T12:27:29.043139Z"
    },
    "pycharm": {
     "name": "#%%\n"
    }
   },
   "outputs": [
    {
     "name": "stdout",
     "output_type": "stream",
     "text": [
      "==================================================\n",
      "CatBoostClassifier\n",
      "Train score: 1.0\n",
      "Test score: 0.9761388286334056\n",
      "              precision    recall  f1-score   support\n",
      "\n",
      "           0       0.99      0.99      0.99      1840\n",
      "           1       0.97      0.98      0.98       460\n",
      "\n",
      "    accuracy                           0.99      2300\n",
      "   macro avg       0.98      0.99      0.99      2300\n",
      "weighted avg       0.99      0.99      0.99      2300\n",
      "\n"
     ]
    }
   ],
   "source": [
    "create_report([clf], np.concatenate([X_train_fft, X_train_wt], axis=1), y_train, np.concatenate([X_test_fft, X_test_wt], axis=1), y_test)"
   ]
  },
  {
   "cell_type": "code",
   "execution_count": 35,
   "metadata": {
    "ExecuteTime": {
     "end_time": "2021-04-29T12:27:32.508693Z",
     "start_time": "2021-04-29T12:27:32.500495Z"
    },
    "pycharm": {
     "name": "#%%\n"
    }
   },
   "outputs": [],
   "source": [
    "top_features = np.argwhere(clf.feature_importances_ > 2).flatten()"
   ]
  },
  {
   "cell_type": "code",
   "execution_count": 36,
   "metadata": {
    "ExecuteTime": {
     "end_time": "2021-04-29T12:27:32.518630Z",
     "start_time": "2021-04-29T12:27:32.509474Z"
    },
    "pycharm": {
     "name": "#%%\n"
    }
   },
   "outputs": [
    {
     "data": {
      "text/plain": [
       "(14,)"
      ]
     },
     "execution_count": 36,
     "metadata": {},
     "output_type": "execute_result"
    }
   ],
   "source": [
    "clf.feature_importances_[top_features].shape"
   ]
  },
  {
   "cell_type": "code",
   "execution_count": 37,
   "metadata": {
    "ExecuteTime": {
     "end_time": "2021-04-29T12:27:32.527830Z",
     "start_time": "2021-04-29T12:27:32.519463Z"
    },
    "pycharm": {
     "name": "#%%\n"
    }
   },
   "outputs": [],
   "source": [
    "clf_top_features_only = CatBoostClassifier(verbose=False)"
   ]
  },
  {
   "cell_type": "code",
   "execution_count": 38,
   "metadata": {
    "ExecuteTime": {
     "end_time": "2021-04-29T12:27:35.929020Z",
     "start_time": "2021-04-29T12:27:32.528612Z"
    },
    "pycharm": {
     "name": "#%%\n"
    }
   },
   "outputs": [
    {
     "name": "stdout",
     "output_type": "stream",
     "text": [
      "==================================================\n",
      "CatBoostClassifier\n",
      "Train score: 1.0\n",
      "Test score: 0.9761388286334056\n",
      "              precision    recall  f1-score   support\n",
      "\n",
      "           0       0.99      0.99      0.99      1840\n",
      "           1       0.97      0.98      0.98       460\n",
      "\n",
      "    accuracy                           0.99      2300\n",
      "   macro avg       0.98      0.99      0.99      2300\n",
      "weighted avg       0.99      0.99      0.99      2300\n",
      "\n"
     ]
    }
   ],
   "source": [
    "create_report([clf_top_features_only], np.concatenate([X_train_fft, X_train_wt], axis=1), y_train, np.concatenate([X_test_fft, X_test_wt], axis=1), y_test)"
   ]
  },
  {
   "cell_type": "markdown",
   "metadata": {},
   "source": [
    "### 2.5 Automatic static features"
   ]
  },
  {
   "cell_type": "code",
   "execution_count": 39,
   "metadata": {
    "ExecuteTime": {
     "end_time": "2021-04-29T12:27:36.933381Z",
     "start_time": "2021-04-29T12:27:35.929802Z"
    },
    "pycharm": {
     "name": "#%%\n"
    }
   },
   "outputs": [],
   "source": [
    "from tsfresh import extract_features, extract_relevant_features, select_features\n",
    "from tsfresh.utilities.dataframe_functions import impute\n",
    "from tsfresh.feature_extraction import settings"
   ]
  },
  {
   "cell_type": "code",
   "execution_count": 40,
   "metadata": {
    "ExecuteTime": {
     "end_time": "2021-04-29T12:27:36.955307Z",
     "start_time": "2021-04-29T12:27:36.934301Z"
    }
   },
   "outputs": [],
   "source": [
    "train_df = input_data.iloc[train_idx].drop(columns=[TARGET_COLUMN])\n",
    "test_df = input_data.iloc[test_idx].drop(columns=[TARGET_COLUMN])"
   ]
  },
  {
   "cell_type": "code",
   "execution_count": 41,
   "metadata": {
    "ExecuteTime": {
     "end_time": "2021-04-29T12:27:36.969271Z",
     "start_time": "2021-04-29T12:27:36.956372Z"
    }
   },
   "outputs": [],
   "source": [
    "settings_efficient = settings.TimeBasedFCParameters()\n",
    "settings_efficient.update(settings.MinimalFCParameters())\n",
    "settings_efficient.update(settings.IndexBasedFCParameters())"
   ]
  },
  {
   "cell_type": "code",
   "execution_count": 42,
   "metadata": {
    "ExecuteTime": {
     "end_time": "2021-04-29T12:27:36.981693Z",
     "start_time": "2021-04-29T12:27:36.970176Z"
    }
   },
   "outputs": [],
   "source": [
    "def get_long_dfs(data):\n",
    "    signal_df_long = pd.DataFrame(\n",
    "        {\n",
    "            0: data.reshape(-1),\n",
    "            1: np.arange(data.shape[0]).repeat(data.shape[1])\n",
    "        }\n",
    "    )\n",
    "    return signal_df_long\n",
    "\n",
    "def extract_tsfeatures(data, settings):\n",
    "    long_dfs = get_long_dfs(data)\n",
    "    signal_features = []\n",
    "    s_features = extract_features(\n",
    "        long_dfs, column_id=1, \n",
    "        impute_function=impute, \n",
    "        default_fc_parameters=settings_efficient,\n",
    "        n_jobs=6,\n",
    "        disable_progressbar=True,\n",
    "        show_warnings=False\n",
    "    )\n",
    "    signal_features.append(s_features)\n",
    "    signal_features_df = pd.concat(signal_features, axis=1)\n",
    "    return signal_features_df"
   ]
  },
  {
   "cell_type": "code",
   "execution_count": 43,
   "metadata": {
    "ExecuteTime": {
     "end_time": "2021-04-29T12:27:36.992921Z",
     "start_time": "2021-04-29T12:27:36.982694Z"
    }
   },
   "outputs": [],
   "source": [
    "y_train_feat = y_train.copy()\n",
    "y_test_feat = y_test.copy()"
   ]
  },
  {
   "cell_type": "code",
   "execution_count": 44,
   "metadata": {
    "ExecuteTime": {
     "end_time": "2021-04-29T12:27:39.215179Z",
     "start_time": "2021-04-29T12:27:36.993779Z"
    }
   },
   "outputs": [],
   "source": [
    "X_train_eff = extract_tsfeatures(X_train.values, settings_efficient)\n",
    "X_test_eff = extract_tsfeatures(X_test.values, settings_efficient)"
   ]
  },
  {
   "cell_type": "code",
   "execution_count": 47,
   "metadata": {
    "ExecuteTime": {
     "end_time": "2021-04-29T12:36:28.472144Z",
     "start_time": "2021-04-29T12:36:28.460819Z"
    }
   },
   "outputs": [
    {
     "data": {
      "text/plain": [
       "12"
      ]
     },
     "execution_count": 47,
     "metadata": {},
     "output_type": "execute_result"
    }
   ],
   "source": [
    "X_train_eff.shape[1]"
   ]
  },
  {
   "cell_type": "code",
   "execution_count": 45,
   "metadata": {
    "ExecuteTime": {
     "end_time": "2021-04-29T12:27:39.229809Z",
     "start_time": "2021-04-29T12:27:39.216291Z"
    }
   },
   "outputs": [],
   "source": [
    "clf_top_features_only = CatBoostClassifier(verbose=False)"
   ]
  },
  {
   "cell_type": "code",
   "execution_count": 46,
   "metadata": {
    "ExecuteTime": {
     "end_time": "2021-04-29T12:27:41.511547Z",
     "start_time": "2021-04-29T12:27:39.230567Z"
    }
   },
   "outputs": [
    {
     "name": "stdout",
     "output_type": "stream",
     "text": [
      "==================================================\n",
      "CatBoostClassifier\n",
      "Train score: 0.9888313810950695\n",
      "Test score: 0.9410503751339765\n",
      "              precision    recall  f1-score   support\n",
      "\n",
      "           0       0.99      0.98      0.99      1840\n",
      "           1       0.93      0.95      0.94       460\n",
      "\n",
      "    accuracy                           0.98      2300\n",
      "   macro avg       0.96      0.97      0.96      2300\n",
      "weighted avg       0.98      0.98      0.98      2300\n",
      "\n"
     ]
    }
   ],
   "source": [
    "create_report([clf], X_train_eff, y_train, X_test_eff, y_test)"
   ]
  },
  {
   "cell_type": "markdown",
   "metadata": {},
   "source": [
    "## Выводы"
   ]
  },
  {
   "cell_type": "markdown",
   "metadata": {},
   "source": [
    "* Наилучший скор показала модель, построенная с использованием wavelet transform и использующая топ-18 признаков из всего набора.\n",
    "* Сравнимый с лучшим скор показала модель, построенная на топ-14 признаках, где были применены обе трансформации Fourier и Wavelet\n",
    "* Модель, построенная с использованием только Fourier признаков, дала лучший результат, чем baseline модель.\n",
    "* Модель, построенная с использованием библиотеки для автоматической генерации признаков, показала сравнимый с baseline моделью скор, но тем не менее он оказался ненсколько ниже. Возможно, эта модель нуждается в дополнительной более тонкой настройке. Ее плюсом является то, что она использует наименьшее количество признаков - 12.\n",
    "* Изначальгно в baseline моделе использовалось 178 признаков. Таким образом с использованием трансформаций удалось уменьшить размерность признаков в ~10 раз и при этом улучшить скор моделей"
   ]
  },
  {
   "cell_type": "code",
   "execution_count": null,
   "metadata": {},
   "outputs": [],
   "source": []
  }
 ],
 "metadata": {
  "kernelspec": {
   "display_name": "Python 3",
   "language": "python",
   "name": "python3"
  },
  "language_info": {
   "codemirror_mode": {
    "name": "ipython",
    "version": 3
   },
   "file_extension": ".py",
   "mimetype": "text/x-python",
   "name": "python",
   "nbconvert_exporter": "python",
   "pygments_lexer": "ipython3",
   "version": "3.8.8"
  }
 },
 "nbformat": 4,
 "nbformat_minor": 1
}
